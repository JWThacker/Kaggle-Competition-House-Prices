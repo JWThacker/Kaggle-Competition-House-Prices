{
 "cells": [
  {
   "cell_type": "markdown",
   "id": "5aef82ab",
   "metadata": {},
   "source": [
    "# Modeling\n",
    "\n",
    "In the previous notebook \"eda.ipynb\" I cleaned up the dataset, performed EDA, and feature engineering. I also explained my thought process for just about every step in that EDA/preprocessing notebook. In summary, there were several features that were sparse (the majority of the values were missing) - these were removed. There were other columns that had missing values - *however they were not missing at random*. The values that were missing were associated with houses that *did not* have a garage or a basement or neither of the two. I dealt with these missing values appropriately. In addition, I performed feature engineering - factors were selected graphically and then engineered mostly by aggregating low-sample levels/classes with similar levels/classes that had more samples; *this was done so the learning process of the models I choose are not dominated by one class*. Numerical features were selected by analysing the Spearman's correlation coefficient - those numerical features with large (enough) correlations were selecte. Spearman's correlation was used so as to not rule out nonlinear montonic relationships. Lastly, I calculated the *principal components* and determined that *eight* components were appropriate by analyzing the explained variance as a function of the number of principal components - *eight* principal components were most appropriate for the subset of features I chose.\n",
    "\n",
    "In this notebook I perform model selection and validation. The models I chose for this competition are:\n",
    "  1. **(OLS) Linear Regression**: because this model can be used as a benchmark model.\n",
    "  2. **Ridge Regression**: since this is a regularized version of linear regression, this will balance the bias/variance and generally lead to a more accurate model. As a result, LASSO and Ridge tend to result in parsimonious models.\n",
    "  3. **KNN**: There's actually no real reason why I chose to give this model a shot other than the fact I've relative success with it in the past.\n",
    "  4. **XGBoost**: I've always had great success with a random forest, so I knew I wanted to give an ensemble method a shot. I also know from other Kagglers that XGBoost is kind of a gold standard and still often outperforms more sophisticated methods such as neural networks.\n",
    "  5. **Stacked Generalization** - I had no idea how this model worked, but I knew it was popular among the competition crowd at least at one point. This gave me an excuse to develop a high-level understanding of how this model worked and to try it out. As can be seen from the results at the end of this notebook - this model dominated the other four individually.\n",
    "  \n",
    "## Table of Contents\n",
    "\n",
    "1. [Package Import and Reading in the Clean Data](#intro)\n",
    "2. [Model Fitting, Hyperparameter tuning, and Model Validation](#mod_fit)\n",
    "3. [Model Evaluation](#mod_eval)\n",
    "4. [Model Evaluation - Visualization](#mod_eval_vis)\n",
    "4. [Discussion](#discuss)"
   ]
  },
  {
   "cell_type": "markdown",
   "id": "42b7e19c",
   "metadata": {},
   "source": [
    "<a id=\"intro\"></a>"
   ]
  },
  {
   "cell_type": "markdown",
   "id": "51a65cbf",
   "metadata": {},
   "source": [
    "### Package Import and Reading In the Clean Data\n",
    "\n",
    "Below I read in the appropriate packages/modules I'll be using for this notebook."
   ]
  },
  {
   "cell_type": "code",
   "execution_count": 1,
   "id": "774df25d",
   "metadata": {},
   "outputs": [],
   "source": [
    "import pandas as pd\n",
    "import matplotlib.pyplot as plt\n",
    "import seaborn as sns\n",
    "import numpy as np\n",
    "import pipelines.ml_pipelines as pl\n",
    "\n",
    "from sklearn.metrics import mean_squared_error, make_scorer, r2_score\n",
    "from sklearn.linear_model import LinearRegression\n",
    "from sklearn.ensemble import RandomForestRegressor, StackingRegressor\n",
    "from sklearn.model_selection import GridSearchCV, cross_val_score\n",
    "\n",
    "dtypes = {'LotFrontage': 'double', 'LoArea': 'double',\n",
    "          'MasVnrArea': 'double', 'BsmtFinSF1': 'double',\n",
    "          'BsmtFinSF2': 'double', 'HeatingQC': 'category',\n",
    "          'ExterQual': 'category', 'KitchenQual': 'category',\n",
    "          'LotShape': 'category', 'OverallQual': 'category',\n",
    "          'OverallCond': 'category', 'MSZoning': 'category'}\n",
    "df_train = pd.read_csv('train.csv', dtype=dtypes)\n",
    "df_test = pd.read_csv('test.csv', dtype=dtypes)"
   ]
  },
  {
   "cell_type": "markdown",
   "id": "063cf15b",
   "metadata": {},
   "source": [
    "Below, I make lists of both the factors and covariates that I'll using in my models."
   ]
  },
  {
   "cell_type": "code",
   "execution_count": 2,
   "id": "595fa515",
   "metadata": {},
   "outputs": [],
   "source": [
    "cat_feats_to_encode = ['MSZoning', 'OverallQual', 'NeighborhoodQuality', 'ExterQual', 'KitchenQual',\n",
    "                       'BsmtQual']\n",
    "num_feats_to_keep = ['LotFrontage', 'LotArea', 'YearBuilt',\n",
    " 'YearRemodAdd', 'MasVnrArea', 'BsmtFinSF1',\n",
    " 'TotalBsmtSF', '1stFlrSF', '2ndFlrSF',\n",
    " 'GrLivArea', 'FullBath', 'TotRmsAbvGrd',\n",
    " 'Fireplaces', 'GarageYrBlt', 'GarageCars',\n",
    " 'GarageArea', 'WoodDeckSF', 'EnclosedPorch']"
   ]
  },
  {
   "cell_type": "markdown",
   "id": "bbbb99f8",
   "metadata": {},
   "source": [
    "### 4. CRISP-DM: Data Modeling\n",
    "\n",
    "At this point I'm ready to start modeling the data."
   ]
  },
  {
   "cell_type": "markdown",
   "id": "51737128",
   "metadata": {},
   "source": [
    "<a id=\"mod_fit\"></a>"
   ]
  },
  {
   "cell_type": "markdown",
   "id": "44d65c26",
   "metadata": {},
   "source": [
    "### Model Fitting, Hyperparameter tuning, and Model Validation\n",
    "\n",
    "For the next several code cells I fit all of the models. I don't plan on testing too many parameters to avoid long run-times, so I use grid search to exhaust the parameter space and perform 5-fold cross-validation to select the best hyperparameters for each model. Later in the notebook, I will compare the different models using their best hyperparameters and select the model that performs the best as my submission."
   ]
  },
  {
   "cell_type": "markdown",
   "id": "6a8571de",
   "metadata": {},
   "source": [
    "Below I fit and perform grid search for the XGBoost model varying just two of the possible hyperparameters."
   ]
  },
  {
   "cell_type": "markdown",
   "id": "bfc73ba3",
   "metadata": {},
   "source": [
    "### Initial Solution\n",
    "\n",
    "Below I perform the model fitting for the first four models that I see doing reasonably well on this dataset - this is of course not an exhaustive list of models that could predict **SalePrice**, but it's four that are at the top of my list."
   ]
  },
  {
   "cell_type": "code",
   "execution_count": 3,
   "id": "b56dfe77",
   "metadata": {},
   "outputs": [],
   "source": [
    "pipeline_xgbr = pl.pipeline_xgbr(num_feats_to_keep, cat_feats_to_encode)"
   ]
  },
  {
   "cell_type": "code",
   "execution_count": 4,
   "id": "918768ab",
   "metadata": {},
   "outputs": [],
   "source": [
    "xgbr_params = {'xgbr__max_depth':[5, 7, 10],\n",
    "               'xgbr__n_estimators': [20, 50, 100]}\n",
    "cv_xgbr = GridSearchCV(pipeline_xgbr, param_grid=xgbr_params, scoring='neg_mean_squared_error', cv=5)"
   ]
  },
  {
   "cell_type": "code",
   "execution_count": 5,
   "id": "0d799fc8",
   "metadata": {},
   "outputs": [],
   "source": [
    "cv_xgbr_obj = cv_xgbr.fit(df_train, df_train['LogSalePrice'])"
   ]
  },
  {
   "cell_type": "code",
   "execution_count": 6,
   "id": "b1454a82",
   "metadata": {},
   "outputs": [
    {
     "data": {
      "text/plain": [
       "{'xgbr__max_depth': 5, 'xgbr__n_estimators': 20}"
      ]
     },
     "execution_count": 6,
     "metadata": {},
     "output_type": "execute_result"
    }
   ],
   "source": [
    "cv_xgbr.best_params_"
   ]
  },
  {
   "cell_type": "markdown",
   "id": "bfe0f011",
   "metadata": {},
   "source": [
    "**Below is the cross-validation score for XGBoost**"
   ]
  },
  {
   "cell_type": "code",
   "execution_count": 7,
   "id": "f89c0020",
   "metadata": {},
   "outputs": [
    {
     "data": {
      "text/plain": [
       "0.16136018695430607"
      ]
     },
     "execution_count": 7,
     "metadata": {},
     "output_type": "execute_result"
    }
   ],
   "source": [
    "np.sqrt(-cv_xgbr.cv_results_['mean_test_score'].mean())"
   ]
  },
  {
   "cell_type": "markdown",
   "id": "4d0096c7",
   "metadata": {},
   "source": [
    "Below I fit and perform grid search for the **KNN** model varying the number of neighbors that the model will use to estimate the test sample."
   ]
  },
  {
   "cell_type": "code",
   "execution_count": 8,
   "id": "c9c293fa",
   "metadata": {},
   "outputs": [],
   "source": [
    "pipeline_knn = pl.pipeline_knn(num_feats_to_keep, cat_feats_to_encode)"
   ]
  },
  {
   "cell_type": "code",
   "execution_count": 9,
   "id": "3c7cce21",
   "metadata": {},
   "outputs": [],
   "source": [
    "knn_params = {'knn__n_neighbors':[1, 5, 10, 15, 20, 25]}\n",
    "cv_knn = GridSearchCV(pipeline_knn, param_grid=knn_params, scoring='neg_mean_squared_error', cv=5)"
   ]
  },
  {
   "cell_type": "code",
   "execution_count": 10,
   "id": "c5cfefc3",
   "metadata": {},
   "outputs": [],
   "source": [
    "cv_knn_obj = cv_knn.fit(df_train, df_train['LogSalePrice'])"
   ]
  },
  {
   "cell_type": "code",
   "execution_count": 11,
   "id": "dedf56b6",
   "metadata": {},
   "outputs": [
    {
     "data": {
      "text/plain": [
       "{'knn__n_neighbors': 10}"
      ]
     },
     "execution_count": 11,
     "metadata": {},
     "output_type": "execute_result"
    }
   ],
   "source": [
    "cv_knn.best_params_"
   ]
  },
  {
   "cell_type": "markdown",
   "id": "063d53d6",
   "metadata": {},
   "source": [
    "**Below is the cross-validation score for KNN**"
   ]
  },
  {
   "cell_type": "code",
   "execution_count": 12,
   "id": "2f9bb5bd",
   "metadata": {},
   "outputs": [
    {
     "data": {
      "text/plain": [
       "0.17375279905863764"
      ]
     },
     "execution_count": 12,
     "metadata": {},
     "output_type": "execute_result"
    }
   ],
   "source": [
    "np.sqrt(-cv_knn.cv_results_['mean_test_score'].mean())"
   ]
  },
  {
   "cell_type": "markdown",
   "id": "bd54b779",
   "metadata": {},
   "source": [
    "Below I fit and perform grid search for the ridge regression model. For convenience, $\\alpha$ measures the flexibility of the model. $\\alpha=0$ is OLS and $\\alpha=\\infty$ is the null model."
   ]
  },
  {
   "cell_type": "code",
   "execution_count": 13,
   "id": "6abd3fac",
   "metadata": {},
   "outputs": [],
   "source": [
    "pipeline_ridge = pl.pipeline_ridge(num_feats_to_keep, cat_feats_to_encode)"
   ]
  },
  {
   "cell_type": "code",
   "execution_count": 14,
   "id": "cb936a3c",
   "metadata": {},
   "outputs": [],
   "source": [
    "ridge_params = {'ridge__alpha':[0.0001, 0.001, 0.01, 0.1, 1, 10]}\n",
    "cv_ridge = GridSearchCV(pipeline_ridge, param_grid=ridge_params, scoring='neg_mean_squared_error', cv=5)"
   ]
  },
  {
   "cell_type": "code",
   "execution_count": 15,
   "id": "12526ea2",
   "metadata": {},
   "outputs": [],
   "source": [
    "cv_ridge_obj = cv_ridge.fit(df_train, df_train['LogSalePrice'])"
   ]
  },
  {
   "cell_type": "code",
   "execution_count": 16,
   "id": "ff35cc5f",
   "metadata": {},
   "outputs": [
    {
     "data": {
      "text/plain": [
       "{'ridge__alpha': 1}"
      ]
     },
     "execution_count": 16,
     "metadata": {},
     "output_type": "execute_result"
    }
   ],
   "source": [
    "cv_ridge.best_params_"
   ]
  },
  {
   "cell_type": "markdown",
   "id": "201fa408",
   "metadata": {},
   "source": [
    "**Below is the cross-validation score for ridge regression**"
   ]
  },
  {
   "cell_type": "code",
   "execution_count": 17,
   "id": "1dde28e1",
   "metadata": {},
   "outputs": [
    {
     "data": {
      "text/plain": [
       "0.16176127395738757"
      ]
     },
     "execution_count": 17,
     "metadata": {},
     "output_type": "execute_result"
    }
   ],
   "source": [
    "np.sqrt(-cv_ridge.cv_results_['mean_test_score'].mean())"
   ]
  },
  {
   "cell_type": "markdown",
   "id": "42db4fc6",
   "metadata": {},
   "source": [
    "Below I fit OLS. There are no hyperparameters to this model - therefore I perform 5-fold cross-validation using the cross_val_score function in order to compare this OLS with the other models at the end of this notebook."
   ]
  },
  {
   "cell_type": "code",
   "execution_count": 18,
   "id": "d8440bf1",
   "metadata": {},
   "outputs": [],
   "source": [
    "pipeline_lm = pl.pipeline_lm(num_feats_to_keep, cat_feats_to_encode)"
   ]
  },
  {
   "cell_type": "code",
   "execution_count": 19,
   "id": "ef9383be",
   "metadata": {},
   "outputs": [],
   "source": [
    "lm_cross_val_scores = cross_val_score(pipeline_lm, df_train, df_train['LogSalePrice'], cv=5, scoring='neg_mean_squared_error')"
   ]
  },
  {
   "cell_type": "code",
   "execution_count": 20,
   "id": "947f69dd",
   "metadata": {},
   "outputs": [],
   "source": [
    "lm = pipeline_lm.fit(df_train, df_train['LogSalePrice'])"
   ]
  },
  {
   "cell_type": "code",
   "execution_count": 21,
   "id": "c94e348f",
   "metadata": {},
   "outputs": [],
   "source": [
    "lm_preds = pipeline_lm.predict(df_train)"
   ]
  },
  {
   "cell_type": "markdown",
   "id": "bc40a0cd",
   "metadata": {},
   "source": [
    "**Below is the cross-validation score for linear regression**"
   ]
  },
  {
   "cell_type": "code",
   "execution_count": 22,
   "id": "bcf955c5",
   "metadata": {},
   "outputs": [
    {
     "data": {
      "text/plain": [
       "0.1617230293410973"
      ]
     },
     "execution_count": 22,
     "metadata": {},
     "output_type": "execute_result"
    }
   ],
   "source": [
    "np.sqrt(-lm_cross_val_scores.mean())"
   ]
  },
  {
   "cell_type": "markdown",
   "id": "0813ef8b",
   "metadata": {},
   "source": [
    "### Final Solution\n",
    "\n",
    "Now that I've seen how the base-learner's validation scores compare, I believe I can do better. I will now fit a stacked regressor in order to improve the performance by combining two of the models in a process called \"stacking\".\n",
    "\n",
    "Thus far we have only seen the cross-validation (CV) scores between the four models (KNN, ridge regression, linear regression, and XGBoost). Later in the notebook I will visualize the *both* the CV scores and the training scores for all of the models including the stacked regression using a pointplot."
   ]
  },
  {
   "cell_type": "markdown",
   "id": "68eda450",
   "metadata": {},
   "source": [
    "Below I fit the stacking regressor using 5-fold cross validation to train the learners. I chose ridge regression and XGBoost (as my learners, not my meta-learners) for the following reasons:\n",
    "  1. The ridge regression should have relatively high bias and will be more likely to underfit - make this the first learner.\n",
    "  2. XGBoost should be very flexible (high variance) and more likely to overfit - make this the second learner.\n",
    "  3. Use linear regression as the meta-learner since it's a relatively inflexible model (and thus less likely to overfit to the predictions of previous level learners)."
   ]
  },
  {
   "cell_type": "markdown",
   "id": "d79ad3db",
   "metadata": {},
   "source": [
    "Here I define my learners in my stacking layer and then lastly I define my meta-learner"
   ]
  },
  {
   "cell_type": "code",
   "execution_count": 23,
   "id": "6bb63f46",
   "metadata": {},
   "outputs": [],
   "source": [
    "estimators = [\n",
    "    ('ridge', cv_ridge),\n",
    "    ('xgbr', cv_xgbr)\n",
    "]\n",
    "st_reg = StackingRegressor(estimators, final_estimator= LinearRegression(), cv=5)"
   ]
  },
  {
   "cell_type": "markdown",
   "id": "850a9377",
   "metadata": {},
   "source": [
    "I now fit my stacking model"
   ]
  },
  {
   "cell_type": "code",
   "execution_count": 24,
   "id": "8196b627",
   "metadata": {},
   "outputs": [],
   "source": [
    "st_cross_val_score = cross_val_score(st_reg, df_train, df_train['LogSalePrice'], cv=5, scoring='neg_mean_squared_error')"
   ]
  },
  {
   "cell_type": "code",
   "execution_count": 25,
   "id": "1acec144",
   "metadata": {},
   "outputs": [],
   "source": [
    "st_reg_fit = st_reg.fit(df_train, df_train['LogSalePrice'])"
   ]
  },
  {
   "cell_type": "code",
   "execution_count": 26,
   "id": "c24fb816",
   "metadata": {},
   "outputs": [
    {
     "data": {
      "text/plain": [
       "[0.13876354363759097,\n",
       " 0.16560200104127779,\n",
       " 0.15096064586809724,\n",
       " 0.14541254697585876,\n",
       " 0.16513928908628334]"
      ]
     },
     "execution_count": 26,
     "metadata": {},
     "output_type": "execute_result"
    }
   ],
   "source": [
    "cross_val_scores_st_reg = [np.sqrt(-score) for score in st_cross_val_score]\n",
    "cross_val_scores_st_reg"
   ]
  },
  {
   "cell_type": "code",
   "execution_count": 27,
   "id": "b4abffa3",
   "metadata": {},
   "outputs": [
    {
     "data": {
      "text/plain": [
       "0.15354755225048652"
      ]
     },
     "execution_count": 27,
     "metadata": {},
     "output_type": "execute_result"
    }
   ],
   "source": [
    "np.sqrt(-st_cross_val_score.mean())"
   ]
  },
  {
   "cell_type": "markdown",
   "id": "88c39cf8",
   "metadata": {},
   "source": [
    "### 5. CRISP-DM: Evaluate the Results\n",
    "\n",
    "At this point, I've fitted my model and calculated their cross-validation scores using 5-fold cross-validation and grid search. Now it's time to evaluate their performance and decide which model to use to make my submission to the competition."
   ]
  },
  {
   "cell_type": "markdown",
   "id": "2eba39bb",
   "metadata": {},
   "source": [
    "<a id=\"mod_eval\"></a>"
   ]
  },
  {
   "cell_type": "markdown",
   "id": "f76be715",
   "metadata": {},
   "source": [
    "### Model Evaluation\n",
    "\n",
    "In the remainder of this notebook, I evaluate each model and display the results in a visualization. I will perform model evaluation based on the negative of the root-mean-squared-log-error (RMSLE) - the formula is given below (take the negative of the summation below):\n",
    "\n",
    "$$\\mathrm{RMSLE} = \\sqrt{\\frac{1}{n} \\sum \\limits_{i=1}^n(log(\\hat{y}_i + 1) - log(y_i + 1))^2}$$\n",
    "\n",
    "This is the official metric of the competition; RMSLE was chosen by Kaggle so that really expensive and really cheap houses affect the results equally.\n",
    "\n",
    "I start by making two datafames that collect both the negated RMSLEs and predicted values for each model. Lastly, I make a pointplot comparing the RMSLE for each model."
   ]
  },
  {
   "cell_type": "markdown",
   "id": "3453dd9a",
   "metadata": {},
   "source": [
    "I now save the fitted values - since these models were fit and selected using 5-fold CV, 20% of the predictions made by these models are predicted values and not fitted."
   ]
  },
  {
   "cell_type": "code",
   "execution_count": 28,
   "id": "e6e8fdae",
   "metadata": {},
   "outputs": [],
   "source": [
    "preds_st = st_reg.predict(df_train)\n",
    "preds_ridge = cv_ridge.best_estimator_.predict(df_train)\n",
    "preds_lm = pipeline_lm.predict(df_train)\n",
    "preds_xgbr = cv_xgbr.best_estimator_.predict(df_train)\n",
    "preds_knn = cv_knn.best_estimator_.predict(df_train)"
   ]
  },
  {
   "cell_type": "code",
   "execution_count": 29,
   "id": "9cf4868a",
   "metadata": {},
   "outputs": [],
   "source": [
    "results_df = pd.DataFrame({'observed':df_train['LogSalePrice'], 'predicted_st': pd.Series(preds_st),\n",
    "                            'predicted_ridge':pd.Series(preds_ridge), 'predicted_lm': pd.Series(preds_lm),\n",
    "                           'predicted_xgbr': pd.Series(preds_xgbr),\n",
    "                           'predicted_knn': pd.Series(preds_knn)})"
   ]
  },
  {
   "cell_type": "code",
   "execution_count": 30,
   "id": "ef230f7f",
   "metadata": {},
   "outputs": [
    {
     "data": {
      "text/html": [
       "<div>\n",
       "<style scoped>\n",
       "    .dataframe tbody tr th:only-of-type {\n",
       "        vertical-align: middle;\n",
       "    }\n",
       "\n",
       "    .dataframe tbody tr th {\n",
       "        vertical-align: top;\n",
       "    }\n",
       "\n",
       "    .dataframe thead th {\n",
       "        text-align: right;\n",
       "    }\n",
       "</style>\n",
       "<table border=\"1\" class=\"dataframe\">\n",
       "  <thead>\n",
       "    <tr style=\"text-align: right;\">\n",
       "      <th></th>\n",
       "      <th>observed</th>\n",
       "      <th>predicted_st</th>\n",
       "      <th>predicted_ridge</th>\n",
       "      <th>predicted_lm</th>\n",
       "      <th>predicted_xgbr</th>\n",
       "      <th>predicted_knn</th>\n",
       "    </tr>\n",
       "  </thead>\n",
       "  <tbody>\n",
       "    <tr>\n",
       "      <th>0</th>\n",
       "      <td>12.247694</td>\n",
       "      <td>12.173244</td>\n",
       "      <td>12.204668</td>\n",
       "      <td>12.204341</td>\n",
       "      <td>12.136874</td>\n",
       "      <td>12.248799</td>\n",
       "    </tr>\n",
       "    <tr>\n",
       "      <th>1</th>\n",
       "      <td>12.109011</td>\n",
       "      <td>12.149321</td>\n",
       "      <td>12.161739</td>\n",
       "      <td>12.162987</td>\n",
       "      <td>12.130186</td>\n",
       "      <td>12.063895</td>\n",
       "    </tr>\n",
       "    <tr>\n",
       "      <th>2</th>\n",
       "      <td>12.317167</td>\n",
       "      <td>12.197908</td>\n",
       "      <td>12.253971</td>\n",
       "      <td>12.253439</td>\n",
       "      <td>12.139193</td>\n",
       "      <td>12.243412</td>\n",
       "    </tr>\n",
       "    <tr>\n",
       "      <th>3</th>\n",
       "      <td>11.849398</td>\n",
       "      <td>12.090962</td>\n",
       "      <td>12.128811</td>\n",
       "      <td>12.130314</td>\n",
       "      <td>12.048723</td>\n",
       "      <td>12.033387</td>\n",
       "    </tr>\n",
       "    <tr>\n",
       "      <th>4</th>\n",
       "      <td>12.429216</td>\n",
       "      <td>12.613901</td>\n",
       "      <td>12.672194</td>\n",
       "      <td>12.673013</td>\n",
       "      <td>12.553362</td>\n",
       "      <td>12.603237</td>\n",
       "    </tr>\n",
       "  </tbody>\n",
       "</table>\n",
       "</div>"
      ],
      "text/plain": [
       "    observed  predicted_st  predicted_ridge  predicted_lm  predicted_xgbr  \\\n",
       "0  12.247694     12.173244        12.204668     12.204341       12.136874   \n",
       "1  12.109011     12.149321        12.161739     12.162987       12.130186   \n",
       "2  12.317167     12.197908        12.253971     12.253439       12.139193   \n",
       "3  11.849398     12.090962        12.128811     12.130314       12.048723   \n",
       "4  12.429216     12.613901        12.672194     12.673013       12.553362   \n",
       "\n",
       "   predicted_knn  \n",
       "0      12.248799  \n",
       "1      12.063895  \n",
       "2      12.243412  \n",
       "3      12.033387  \n",
       "4      12.603237  "
      ]
     },
     "execution_count": 30,
     "metadata": {},
     "output_type": "execute_result"
    }
   ],
   "source": [
    "results_df.head()"
   ]
  },
  {
   "cell_type": "markdown",
   "id": "a25527cf",
   "metadata": {},
   "source": [
    "In the code cell below I make a dataframe of negated RMSLEs for the **XGBoost**, **ridge regression**, and **KNN** models. These are thrown into the dataframe first since they were created with GridSearchCV."
   ]
  },
  {
   "cell_type": "code",
   "execution_count": 44,
   "id": "c0b284af",
   "metadata": {},
   "outputs": [],
   "source": [
    "score_df = pd.DataFrame(columns=['model', 'nms_test_score', 'nms_train_score'])\n",
    "cross_val_objs = [cv_xgbr, cv_ridge, cv_knn]\n",
    "results_names = ['predicted_xgbr', 'predicted_ridge', 'predicted_knn']\n",
    "names = ['XGBoost_Regression', 'Ridge_Regression', 'KNN_Regression']\n",
    "for name, obj, rn in zip(names, cross_val_objs, results_names):\n",
    "    row_to_add = pd.DataFrame({'model': [name],\n",
    "                               'validation_score': [np.sqrt(-obj.cv_results_['mean_test_score'].mean())],\n",
    "                               'train_score': [np.sqrt(mean_squared_error(results_df['observed'], results_df[rn]))]})\n",
    "    \n",
    "    score_df = pd.concat([score_df, row_to_add], axis=0)"
   ]
  },
  {
   "cell_type": "code",
   "execution_count": 45,
   "id": "2f34362a",
   "metadata": {},
   "outputs": [
    {
     "data": {
      "text/html": [
       "<div>\n",
       "<style scoped>\n",
       "    .dataframe tbody tr th:only-of-type {\n",
       "        vertical-align: middle;\n",
       "    }\n",
       "\n",
       "    .dataframe tbody tr th {\n",
       "        vertical-align: top;\n",
       "    }\n",
       "\n",
       "    .dataframe thead th {\n",
       "        text-align: right;\n",
       "    }\n",
       "</style>\n",
       "<table border=\"1\" class=\"dataframe\">\n",
       "  <thead>\n",
       "    <tr style=\"text-align: right;\">\n",
       "      <th></th>\n",
       "      <th>model</th>\n",
       "      <th>variable</th>\n",
       "      <th>value</th>\n",
       "    </tr>\n",
       "  </thead>\n",
       "  <tbody>\n",
       "    <tr>\n",
       "      <th>0</th>\n",
       "      <td>XGBoost_Regression</td>\n",
       "      <td>validation_score</td>\n",
       "      <td>0.161360</td>\n",
       "    </tr>\n",
       "    <tr>\n",
       "      <th>1</th>\n",
       "      <td>Ridge_Regression</td>\n",
       "      <td>validation_score</td>\n",
       "      <td>0.161761</td>\n",
       "    </tr>\n",
       "    <tr>\n",
       "      <th>2</th>\n",
       "      <td>KNN_Regression</td>\n",
       "      <td>validation_score</td>\n",
       "      <td>0.173753</td>\n",
       "    </tr>\n",
       "    <tr>\n",
       "      <th>3</th>\n",
       "      <td>XGBoost_Regression</td>\n",
       "      <td>train_score</td>\n",
       "      <td>0.101206</td>\n",
       "    </tr>\n",
       "    <tr>\n",
       "      <th>4</th>\n",
       "      <td>Ridge_Regression</td>\n",
       "      <td>train_score</td>\n",
       "      <td>0.157001</td>\n",
       "    </tr>\n",
       "    <tr>\n",
       "      <th>5</th>\n",
       "      <td>KNN_Regression</td>\n",
       "      <td>train_score</td>\n",
       "      <td>0.144862</td>\n",
       "    </tr>\n",
       "  </tbody>\n",
       "</table>\n",
       "</div>"
      ],
      "text/plain": [
       "                model          variable     value\n",
       "0  XGBoost_Regression  validation_score  0.161360\n",
       "1    Ridge_Regression  validation_score  0.161761\n",
       "2      KNN_Regression  validation_score  0.173753\n",
       "3  XGBoost_Regression       train_score  0.101206\n",
       "4    Ridge_Regression       train_score  0.157001\n",
       "5      KNN_Regression       train_score  0.144862"
      ]
     },
     "execution_count": 45,
     "metadata": {},
     "output_type": "execute_result"
    }
   ],
   "source": [
    "score_df = pd.melt(score_df, id_vars='model', value_vars=['validation_score', 'train_score'])\n",
    "score_df"
   ]
  },
  {
   "cell_type": "markdown",
   "id": "810312a2",
   "metadata": {},
   "source": [
    "Below I add the **stacked generalizion** and **linear regression** RMSLEs to the dataframe as well. These did not need hyperparameter tuning via grid search. The RMSLE for the linear regression was estimated using 5-fold CV (earlier in the notebook) and the learners and meta-learner have already been fit to different folds of the model and the whole model respectively."
   ]
  },
  {
   "cell_type": "code",
   "execution_count": 46,
   "id": "4c5753fb",
   "metadata": {},
   "outputs": [],
   "source": [
    "st_lm_score_df = pd.melt(pd.DataFrame({'model': ['Stacked_Regression', 'Linear_Regression'], 'validation_score': [np.sqrt(-st_cross_val_score.mean()), np.sqrt(-lm_cross_val_scores.mean())],\n",
    "              'train_score': [np.sqrt(mean_squared_error(results_df['observed'], results_df['predicted_st'])),\n",
    "                                  np.sqrt(mean_squared_error(results_df['observed'], results_df['predicted_lm']))]}),\n",
    "        id_vars='model')"
   ]
  },
  {
   "cell_type": "code",
   "execution_count": 47,
   "id": "7e621afa",
   "metadata": {},
   "outputs": [],
   "source": [
    "score_df = pd.concat([score_df, st_lm_score_df])"
   ]
  },
  {
   "cell_type": "code",
   "execution_count": 48,
   "id": "d90e0910",
   "metadata": {},
   "outputs": [
    {
     "data": {
      "text/html": [
       "<div>\n",
       "<style scoped>\n",
       "    .dataframe tbody tr th:only-of-type {\n",
       "        vertical-align: middle;\n",
       "    }\n",
       "\n",
       "    .dataframe tbody tr th {\n",
       "        vertical-align: top;\n",
       "    }\n",
       "\n",
       "    .dataframe thead th {\n",
       "        text-align: right;\n",
       "    }\n",
       "</style>\n",
       "<table border=\"1\" class=\"dataframe\">\n",
       "  <thead>\n",
       "    <tr style=\"text-align: right;\">\n",
       "      <th></th>\n",
       "      <th>model</th>\n",
       "      <th>variable</th>\n",
       "      <th>value</th>\n",
       "    </tr>\n",
       "  </thead>\n",
       "  <tbody>\n",
       "    <tr>\n",
       "      <th>0</th>\n",
       "      <td>XGBoost_Regression</td>\n",
       "      <td>validation_score</td>\n",
       "      <td>0.161360</td>\n",
       "    </tr>\n",
       "    <tr>\n",
       "      <th>1</th>\n",
       "      <td>Ridge_Regression</td>\n",
       "      <td>validation_score</td>\n",
       "      <td>0.161761</td>\n",
       "    </tr>\n",
       "    <tr>\n",
       "      <th>2</th>\n",
       "      <td>KNN_Regression</td>\n",
       "      <td>validation_score</td>\n",
       "      <td>0.173753</td>\n",
       "    </tr>\n",
       "    <tr>\n",
       "      <th>3</th>\n",
       "      <td>XGBoost_Regression</td>\n",
       "      <td>train_score</td>\n",
       "      <td>0.101206</td>\n",
       "    </tr>\n",
       "    <tr>\n",
       "      <th>4</th>\n",
       "      <td>Ridge_Regression</td>\n",
       "      <td>train_score</td>\n",
       "      <td>0.157001</td>\n",
       "    </tr>\n",
       "    <tr>\n",
       "      <th>5</th>\n",
       "      <td>KNN_Regression</td>\n",
       "      <td>train_score</td>\n",
       "      <td>0.144862</td>\n",
       "    </tr>\n",
       "    <tr>\n",
       "      <th>0</th>\n",
       "      <td>Stacked_Regression</td>\n",
       "      <td>validation_score</td>\n",
       "      <td>0.153548</td>\n",
       "    </tr>\n",
       "    <tr>\n",
       "      <th>1</th>\n",
       "      <td>Linear_Regression</td>\n",
       "      <td>validation_score</td>\n",
       "      <td>0.161723</td>\n",
       "    </tr>\n",
       "    <tr>\n",
       "      <th>2</th>\n",
       "      <td>Stacked_Regression</td>\n",
       "      <td>train_score</td>\n",
       "      <td>0.120021</td>\n",
       "    </tr>\n",
       "    <tr>\n",
       "      <th>3</th>\n",
       "      <td>Linear_Regression</td>\n",
       "      <td>train_score</td>\n",
       "      <td>0.156998</td>\n",
       "    </tr>\n",
       "  </tbody>\n",
       "</table>\n",
       "</div>"
      ],
      "text/plain": [
       "                model          variable     value\n",
       "0  XGBoost_Regression  validation_score  0.161360\n",
       "1    Ridge_Regression  validation_score  0.161761\n",
       "2      KNN_Regression  validation_score  0.173753\n",
       "3  XGBoost_Regression       train_score  0.101206\n",
       "4    Ridge_Regression       train_score  0.157001\n",
       "5      KNN_Regression       train_score  0.144862\n",
       "0  Stacked_Regression  validation_score  0.153548\n",
       "1   Linear_Regression  validation_score  0.161723\n",
       "2  Stacked_Regression       train_score  0.120021\n",
       "3   Linear_Regression       train_score  0.156998"
      ]
     },
     "execution_count": 48,
     "metadata": {},
     "output_type": "execute_result"
    }
   ],
   "source": [
    "score_df"
   ]
  },
  {
   "cell_type": "code",
   "execution_count": 49,
   "id": "ab802a3d",
   "metadata": {},
   "outputs": [
    {
     "data": {
      "text/plain": [
       "0        KNN_Regression\n",
       "2      Ridge_Regression\n",
       "1     Linear_Regression\n",
       "4    XGBoost_Regression\n",
       "3    Stacked_Regression\n",
       "Name: model, dtype: object"
      ]
     },
     "execution_count": 49,
     "metadata": {},
     "output_type": "execute_result"
    }
   ],
   "source": [
    "score_df_wide = score_df.pivot(index=['model'], columns=['variable'], values=['value']).reset_index(level=0, col_level=1).droplevel(level=0, axis=1)\n",
    "score_df_wide = score_df_wide.sort_values(by='validation_score', ascending=False)\n",
    "score_df_wide['model']"
   ]
  },
  {
   "cell_type": "markdown",
   "id": "57a6f3c4",
   "metadata": {},
   "source": [
    "### Model Evaluation - Visualization\n",
    "\n",
    "Below is a pointplot of the model name versus the negated RMSLE. Since the RMSLE was negated it is now a score (bigger is better). From the pointplot below, we can see that the stacked regressor outperforms all of the other models by almost 2-fold (and the stacked regressor outperforms **KNN** by more than this). **XGBoost**, **linear regression**, and **ridge regression** perform similarly and the model with the worst performance is **KNN**.\n",
    "\n",
    "From this visualization I can conclude that the stacked generalization is the most highly performant model - I will use my stacked regression model for my competition submission."
   ]
  },
  {
   "cell_type": "code",
   "execution_count": 50,
   "id": "664618e2",
   "metadata": {},
   "outputs": [
    {
     "data": {
      "image/png": "[encoded data removed]",
      "text/plain": [
       "<Figure size 693.125x576 with 1 Axes>"
      ]
     },
     "metadata": {
      "needs_background": "light"
     },
     "output_type": "display_data"
    }
   ],
   "source": [
    "g = sns.catplot(x='value', y='model', data=score_df, hue='variable', height=8, aspect=1, dodge=False,\n",
    "            s=15, kind='point', order=score_df_wide['model'], facet_kws={'legend_out': True});\n",
    "g.fig.suptitle('Negative RMSLE by Model', y=1.05)\n",
    "g._legend.set_title('RMSLE')"
   ]
  },
  {
   "cell_type": "code",
   "execution_count": 38,
   "id": "d5b8cb61",
   "metadata": {},
   "outputs": [
    {
     "data": {
      "text/html": [
       "<div>\n",
       "<style scoped>\n",
       "    .dataframe tbody tr th:only-of-type {\n",
       "        vertical-align: middle;\n",
       "    }\n",
       "\n",
       "    .dataframe tbody tr th {\n",
       "        vertical-align: top;\n",
       "    }\n",
       "\n",
       "    .dataframe thead th {\n",
       "        text-align: right;\n",
       "    }\n",
       "</style>\n",
       "<table border=\"1\" class=\"dataframe\">\n",
       "  <thead>\n",
       "    <tr style=\"text-align: right;\">\n",
       "      <th></th>\n",
       "      <th>model</th>\n",
       "      <th>variable</th>\n",
       "      <th>value</th>\n",
       "      <th>dataset</th>\n",
       "    </tr>\n",
       "  </thead>\n",
       "  <tbody>\n",
       "    <tr>\n",
       "      <th>0</th>\n",
       "      <td>XGBoost_Regression</td>\n",
       "      <td>validation_score</td>\n",
       "      <td>0.161360</td>\n",
       "      <td>test</td>\n",
       "    </tr>\n",
       "    <tr>\n",
       "      <th>1</th>\n",
       "      <td>Ridge_Regression</td>\n",
       "      <td>validation_score</td>\n",
       "      <td>0.161761</td>\n",
       "      <td>test</td>\n",
       "    </tr>\n",
       "    <tr>\n",
       "      <th>2</th>\n",
       "      <td>KNN_Regression</td>\n",
       "      <td>validation_score</td>\n",
       "      <td>0.173753</td>\n",
       "      <td>test</td>\n",
       "    </tr>\n",
       "    <tr>\n",
       "      <th>3</th>\n",
       "      <td>XGBoost_Regression</td>\n",
       "      <td>train_score</td>\n",
       "      <td>0.101206</td>\n",
       "      <td>test</td>\n",
       "    </tr>\n",
       "    <tr>\n",
       "      <th>4</th>\n",
       "      <td>Ridge_Regression</td>\n",
       "      <td>train_score</td>\n",
       "      <td>0.157001</td>\n",
       "      <td>test</td>\n",
       "    </tr>\n",
       "    <tr>\n",
       "      <th>5</th>\n",
       "      <td>KNN_Regression</td>\n",
       "      <td>train_score</td>\n",
       "      <td>0.144862</td>\n",
       "      <td>test</td>\n",
       "    </tr>\n",
       "    <tr>\n",
       "      <th>0</th>\n",
       "      <td>Stacked_Regression</td>\n",
       "      <td>validation_score</td>\n",
       "      <td>0.153548</td>\n",
       "      <td>test</td>\n",
       "    </tr>\n",
       "    <tr>\n",
       "      <th>1</th>\n",
       "      <td>Linear_Regression</td>\n",
       "      <td>validation_score</td>\n",
       "      <td>0.161723</td>\n",
       "      <td>test</td>\n",
       "    </tr>\n",
       "    <tr>\n",
       "      <th>2</th>\n",
       "      <td>Stacked_Regression</td>\n",
       "      <td>train_score</td>\n",
       "      <td>0.120021</td>\n",
       "      <td>test</td>\n",
       "    </tr>\n",
       "    <tr>\n",
       "      <th>3</th>\n",
       "      <td>Linear_Regression</td>\n",
       "      <td>train_score</td>\n",
       "      <td>0.156998</td>\n",
       "      <td>test</td>\n",
       "    </tr>\n",
       "  </tbody>\n",
       "</table>\n",
       "</div>"
      ],
      "text/plain": [
       "                model          variable     value dataset\n",
       "0  XGBoost_Regression  validation_score  0.161360    test\n",
       "1    Ridge_Regression  validation_score  0.161761    test\n",
       "2      KNN_Regression  validation_score  0.173753    test\n",
       "3  XGBoost_Regression       train_score  0.101206    test\n",
       "4    Ridge_Regression       train_score  0.157001    test\n",
       "5      KNN_Regression       train_score  0.144862    test\n",
       "0  Stacked_Regression  validation_score  0.153548    test\n",
       "1   Linear_Regression  validation_score  0.161723    test\n",
       "2  Stacked_Regression       train_score  0.120021    test\n",
       "3   Linear_Regression       train_score  0.156998    test"
      ]
     },
     "execution_count": 38,
     "metadata": {},
     "output_type": "execute_result"
    }
   ],
   "source": [
    "score_df['dataset'] = 'test'\n",
    "score_df"
   ]
  },
  {
   "cell_type": "markdown",
   "id": "ae0dd72d",
   "metadata": {},
   "source": [
    "<a id=\"mod_eval_vis\"></a>"
   ]
  },
  {
   "cell_type": "markdown",
   "id": "4ba209d3",
   "metadata": {},
   "source": [
    "### 6. CRISP-DM: Deploy\n",
    "\n",
    "The remainder of this notebook constructs a CSV of my submission for the Kaggle house prices competition."
   ]
  },
  {
   "cell_type": "code",
   "execution_count": 39,
   "id": "f1a7e0b4",
   "metadata": {},
   "outputs": [
    {
     "data": {
      "text/html": [
       "<div>\n",
       "<style scoped>\n",
       "    .dataframe tbody tr th:only-of-type {\n",
       "        vertical-align: middle;\n",
       "    }\n",
       "\n",
       "    .dataframe tbody tr th {\n",
       "        vertical-align: top;\n",
       "    }\n",
       "\n",
       "    .dataframe thead th {\n",
       "        text-align: right;\n",
       "    }\n",
       "</style>\n",
       "<table border=\"1\" class=\"dataframe\">\n",
       "  <thead>\n",
       "    <tr style=\"text-align: right;\">\n",
       "      <th></th>\n",
       "      <th>Id</th>\n",
       "    </tr>\n",
       "  </thead>\n",
       "  <tbody>\n",
       "    <tr>\n",
       "      <th>0</th>\n",
       "      <td>1461</td>\n",
       "    </tr>\n",
       "    <tr>\n",
       "      <th>1</th>\n",
       "      <td>1462</td>\n",
       "    </tr>\n",
       "    <tr>\n",
       "      <th>2</th>\n",
       "      <td>1463</td>\n",
       "    </tr>\n",
       "    <tr>\n",
       "      <th>3</th>\n",
       "      <td>1464</td>\n",
       "    </tr>\n",
       "    <tr>\n",
       "      <th>4</th>\n",
       "      <td>1465</td>\n",
       "    </tr>\n",
       "    <tr>\n",
       "      <th>...</th>\n",
       "      <td>...</td>\n",
       "    </tr>\n",
       "    <tr>\n",
       "      <th>1454</th>\n",
       "      <td>2915</td>\n",
       "    </tr>\n",
       "    <tr>\n",
       "      <th>1455</th>\n",
       "      <td>2916</td>\n",
       "    </tr>\n",
       "    <tr>\n",
       "      <th>1456</th>\n",
       "      <td>2917</td>\n",
       "    </tr>\n",
       "    <tr>\n",
       "      <th>1457</th>\n",
       "      <td>2918</td>\n",
       "    </tr>\n",
       "    <tr>\n",
       "      <th>1458</th>\n",
       "      <td>2919</td>\n",
       "    </tr>\n",
       "  </tbody>\n",
       "</table>\n",
       "<p>1459 rows × 1 columns</p>\n",
       "</div>"
      ],
      "text/plain": [
       "        Id\n",
       "0     1461\n",
       "1     1462\n",
       "2     1463\n",
       "3     1464\n",
       "4     1465\n",
       "...    ...\n",
       "1454  2915\n",
       "1455  2916\n",
       "1456  2917\n",
       "1457  2918\n",
       "1458  2919\n",
       "\n",
       "[1459 rows x 1 columns]"
      ]
     },
     "execution_count": 39,
     "metadata": {},
     "output_type": "execute_result"
    }
   ],
   "source": [
    "ids = pd.DataFrame(df_test['Id'], columns=['Id'])\n",
    "ids"
   ]
  },
  {
   "cell_type": "code",
   "execution_count": 40,
   "id": "697fd614",
   "metadata": {},
   "outputs": [],
   "source": [
    "predictions = pd.DataFrame(np.exp(st_reg.predict(df_test)), columns=['SalePrice'])"
   ]
  },
  {
   "cell_type": "code",
   "execution_count": 41,
   "id": "649e9255",
   "metadata": {},
   "outputs": [],
   "source": [
    "submission = pd.concat([ids, predictions], axis=1)"
   ]
  },
  {
   "cell_type": "code",
   "execution_count": 42,
   "id": "3aa8bdb1",
   "metadata": {},
   "outputs": [],
   "source": [
    "submission.to_csv('submission.csv', index=False)"
   ]
  },
  {
   "cell_type": "code",
   "execution_count": 43,
   "id": "847a18cc",
   "metadata": {},
   "outputs": [
    {
     "data": {
      "text/html": [
       "<div>\n",
       "<style scoped>\n",
       "    .dataframe tbody tr th:only-of-type {\n",
       "        vertical-align: middle;\n",
       "    }\n",
       "\n",
       "    .dataframe tbody tr th {\n",
       "        vertical-align: top;\n",
       "    }\n",
       "\n",
       "    .dataframe thead th {\n",
       "        text-align: right;\n",
       "    }\n",
       "</style>\n",
       "<table border=\"1\" class=\"dataframe\">\n",
       "  <thead>\n",
       "    <tr style=\"text-align: right;\">\n",
       "      <th></th>\n",
       "      <th>Id</th>\n",
       "      <th>SalePrice</th>\n",
       "    </tr>\n",
       "  </thead>\n",
       "  <tbody>\n",
       "    <tr>\n",
       "      <th>0</th>\n",
       "      <td>1461</td>\n",
       "      <td>116674.153999</td>\n",
       "    </tr>\n",
       "    <tr>\n",
       "      <th>1</th>\n",
       "      <td>1462</td>\n",
       "      <td>152857.348517</td>\n",
       "    </tr>\n",
       "    <tr>\n",
       "      <th>2</th>\n",
       "      <td>1463</td>\n",
       "      <td>190613.331017</td>\n",
       "    </tr>\n",
       "    <tr>\n",
       "      <th>3</th>\n",
       "      <td>1464</td>\n",
       "      <td>212016.084356</td>\n",
       "    </tr>\n",
       "    <tr>\n",
       "      <th>4</th>\n",
       "      <td>1465</td>\n",
       "      <td>187303.500554</td>\n",
       "    </tr>\n",
       "    <tr>\n",
       "      <th>...</th>\n",
       "      <td>...</td>\n",
       "      <td>...</td>\n",
       "    </tr>\n",
       "    <tr>\n",
       "      <th>1454</th>\n",
       "      <td>2915</td>\n",
       "      <td>82063.690461</td>\n",
       "    </tr>\n",
       "    <tr>\n",
       "      <th>1455</th>\n",
       "      <td>2916</td>\n",
       "      <td>89514.058363</td>\n",
       "    </tr>\n",
       "    <tr>\n",
       "      <th>1456</th>\n",
       "      <td>2917</td>\n",
       "      <td>196027.033824</td>\n",
       "    </tr>\n",
       "    <tr>\n",
       "      <th>1457</th>\n",
       "      <td>2918</td>\n",
       "      <td>129013.645770</td>\n",
       "    </tr>\n",
       "    <tr>\n",
       "      <th>1458</th>\n",
       "      <td>2919</td>\n",
       "      <td>212730.882650</td>\n",
       "    </tr>\n",
       "  </tbody>\n",
       "</table>\n",
       "<p>1459 rows × 2 columns</p>\n",
       "</div>"
      ],
      "text/plain": [
       "        Id      SalePrice\n",
       "0     1461  116674.153999\n",
       "1     1462  152857.348517\n",
       "2     1463  190613.331017\n",
       "3     1464  212016.084356\n",
       "4     1465  187303.500554\n",
       "...    ...            ...\n",
       "1454  2915   82063.690461\n",
       "1455  2916   89514.058363\n",
       "1456  2917  196027.033824\n",
       "1457  2918  129013.645770\n",
       "1458  2919  212730.882650\n",
       "\n",
       "[1459 rows x 2 columns]"
      ]
     },
     "execution_count": 43,
     "metadata": {},
     "output_type": "execute_result"
    }
   ],
   "source": [
    "pd.read_csv('submission.csv')"
   ]
  },
  {
   "cell_type": "markdown",
   "id": "9c52fe41",
   "metadata": {},
   "source": [
    "<a id=\"discuss\"></a>"
   ]
  },
  {
   "cell_type": "markdown",
   "id": "8945b3ee",
   "metadata": {},
   "source": [
    "## Discussion"
   ]
  },
  {
   "cell_type": "markdown",
   "id": "12ef4e7c",
   "metadata": {},
   "source": [
    "In this notebook I accomplished a lot - model selection and validation. I evaluated each base model, namely **KNN**, **linear regression**, **ridge regression**, and **XGBoost** separately using 5-fold CV. I then decided to see how a **stacked regression** would perform by combining a reltively inflexible model (**ridge regression**) and a highly flexible model (**XGBoost**) as my stacked learners and I then used OLS as my meta-learner.\n",
    "\n",
    "The stacked regression clearly had the highest performance of all the models and I therefore used this model for my submission to the competition. I fully expected to come in about dead-last in the competition, but I did a lot better than I thought - I came in **2491/4325** place at the time of my submission. This was really fun and I see myself being a regular in these competitions to simply just to push myself to learn more about predictive modeling.\n",
    "\n",
    "Now to discuss the best fit hyperparameters of the base-learners that were used in the **stacked regression**. The best $\\alpha$ value for the **ridge regression** was $\\alpha=1$. This particular parameter would have made the second-most inflexible regression model (remember, larger values of $\\alpha$ mean a more biased/inflexible regression model. In addition, the best performing **XGBoost** hyperparmeters were 5 for the maximum depth of a tree and 20 trees - this pair of hyperparameters makes the least complex ensemble of learners. The answer I believe is in the EDA notebook, specifically where I plot the boxplots versus **LogSalePrice** and also where I plot the first *eight* principal components versus **LogSalePrice**. If you first refer to the boxplots of many of the ordered factors you can see that there is what looks like a linearly increasing relationship for higher-order levels. If you now refer to the end of the EDA notebook where I plot the first principal componet versus **LogSalePrice** you can see that there is a strong *linear* relationship. I believe that the relationship between **LogSalePrice** and the features I predicted is close to linear and therefore nonlinear approaches might overfit which is why you see a trend of hyperparameters that will yield less flexlible/linear-like models.\n",
    "\n",
    "Now, embarassingly, I only decided to look at the plots of the principal components versus **LogSalePrice** **after** I had performed model selection and validation. To my dismay I can really only see a visible relationship between the first principal component and **LogSalePrice** - this is just a consequence of PCA being unsupervised. If I could rewind time I would first see how my model performs on the raw numerical features *and then* see how the princpal components affects model performance - this is the last time I get burned by PCA. I believe that using *only* the raw numerical features in my model will significantly improve its performance. In addition, I would try to improve model performance by performing *more* feature engineering. I believe that calculating more domain specific features would greatly improve the model. Lastly, I also believe that creating meta-features will improve model performance as well. I would calculate things like the mean and standard deviation of each row of the numerical feature model matrix to see how that affects model performance.\n",
    "\n",
    "I found the open-endedness the most difficult and most exciting part of this project. Many academic datasets found at universities and certificate programs have small numbers of predictors/features (< 20). This dataset had a moderate amount (79 to be exact) and it was at first overwhelming, but as you begin to find patterns and uncover relationships it becomes a pleasure to reiterate the different key-points within the CRISP-DM process (EDA for example within the **prepare the data** step or tuning the hyperparameters in the **data modeling** step). I will be continuing this project to climb higher in the rankings after I submit it in its current state for my data scientist capstone. I've already mentioned a couple of ways to improve the performance of my model and I believe I could climb significantly higher in the rankings by implementing these improvements.\n",
    "\n",
    "A nice summary of the end-to-end solution can be found in the README.md accompanying the respository that this notebook is located within.\n",
    "\n",
    "In the end, I am satisfied by my performance in my first machine learning competition and I must say I am hooked. I'm already planning my next beginner competition at Kaggle (the infamous Titanic competition) to learn more and isn't that the whole point?"
   ]
  },
  {
   "cell_type": "code",
   "execution_count": null,
   "id": "1ad41706",
   "metadata": {},
   "outputs": [],
   "source": []
  }
 ],
 "metadata": {
  "kernelspec": {
   "display_name": "Python 3 (ipykernel)",
   "language": "python",
   "name": "python3"
  },
  "language_info": {
   "codemirror_mode": {
    "name": "ipython",
    "version": 3
   },
   "file_extension": ".py",
   "mimetype": "text/x-python",
   "name": "python",
   "nbconvert_exporter": "python",
   "pygments_lexer": "ipython3",
   "version": "3.7.4"
  }
 },
 "nbformat": 4,
 "nbformat_minor": 5
}
